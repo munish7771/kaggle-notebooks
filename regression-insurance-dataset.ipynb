{
 "cells": [
  {
   "cell_type": "code",
   "execution_count": 1,
   "id": "73a9ca56",
   "metadata": {
    "execution": {
     "iopub.execute_input": "2024-12-11T15:58:11.195148Z",
     "iopub.status.busy": "2024-12-11T15:58:11.194608Z",
     "iopub.status.idle": "2024-12-11T15:58:16.154000Z",
     "shell.execute_reply": "2024-12-11T15:58:16.153038Z"
    },
    "papermill": {
     "duration": 4.966311,
     "end_time": "2024-12-11T15:58:16.156373",
     "exception": false,
     "start_time": "2024-12-11T15:58:11.190062",
     "status": "completed"
    },
    "tags": []
   },
   "outputs": [],
   "source": [
    "# /kaggle/input/playground-series-s4e12/sample_submission.csv\n",
    "# /kaggle/input/playground-series-s4e12/train.csv\n",
    "# /kaggle/input/playground-series-s4e12/test.csv\n",
    "\n",
    "import pandas as pd\n",
    "\n",
    "train_df = pd.read_csv(\"/kaggle/input/playground-series-s4e12/train.csv\", index_col = 'id', engine='pyarrow').dropna(subset=['Premium Amount'])\n",
    "test_df = pd.read_csv(\"/kaggle/input/playground-series-s4e12/test.csv\", index_col = 'id', engine='pyarrow')\n",
    "target = 'Premium Amount'"
   ]
  },
  {
   "cell_type": "code",
   "execution_count": 2,
   "id": "c454d899",
   "metadata": {
    "execution": {
     "iopub.execute_input": "2024-12-11T15:58:16.163636Z",
     "iopub.status.busy": "2024-12-11T15:58:16.162867Z",
     "iopub.status.idle": "2024-12-11T15:58:18.574579Z",
     "shell.execute_reply": "2024-12-11T15:58:18.573509Z"
    },
    "papermill": {
     "duration": 2.417549,
     "end_time": "2024-12-11T15:58:18.576922",
     "exception": false,
     "start_time": "2024-12-11T15:58:16.159373",
     "status": "completed"
    },
    "tags": []
   },
   "outputs": [],
   "source": [
    "from sklearn.preprocessing import LabelEncoder\n",
    "from datetime import datetime\n",
    "reference_date = datetime(2018,1,1)\n",
    "def add_custom_transform(df):\n",
    "    df = df.copy()\n",
    "    df['Policy Start Date'] = pd.to_datetime(df['Policy Start Date'])\n",
    "    df['DaysSinceStart'] = (df['Policy Start Date'] - reference_date).dt.days\n",
    "    df = df.drop(columns = ['Policy Start Date'])\n",
    "    return df\n",
    "\n",
    "train_df = add_custom_transform(train_df)\n",
    "test_df = add_custom_transform(test_df)"
   ]
  },
  {
   "cell_type": "code",
   "execution_count": 3,
   "id": "a5ff64b8",
   "metadata": {
    "execution": {
     "iopub.execute_input": "2024-12-11T15:58:18.583612Z",
     "iopub.status.busy": "2024-12-11T15:58:18.582789Z",
     "iopub.status.idle": "2024-12-11T15:58:19.303713Z",
     "shell.execute_reply": "2024-12-11T15:58:19.302661Z"
    },
    "papermill": {
     "duration": 0.726664,
     "end_time": "2024-12-11T15:58:19.306026",
     "exception": false,
     "start_time": "2024-12-11T15:58:18.579362",
     "status": "completed"
    },
    "tags": []
   },
   "outputs": [],
   "source": [
    "from sklearn.compose import ColumnTransformer\n",
    "from sklearn.pipeline import Pipeline\n",
    "from sklearn.preprocessing import StandardScaler, OneHotEncoder\n",
    "from sklearn.impute import SimpleImputer\n",
    "from sklearn.ensemble import VotingRegressor\n",
    "from sklearn.linear_model import ElasticNet, LinearRegression\n",
    "from sklearn.metrics import mean_squared_error\n",
    "from xgboost import XGBRegressor\n",
    "from sklearn.neural_network import MLPRegressor\n",
    "from sklearn.model_selection import train_test_split, KFold\n",
    "import numpy as np\n",
    "\n",
    "numeric_features = np.setdiff1d(train_df.select_dtypes(include=np.number).columns.values, ['Premium Amount'])\n",
    "categorical_features = train_df.select_dtypes(include='object').columns.values\n",
    "# train_df[numeric_features].describe().T\n",
    "# train_df[categorical_features].describe().T\n",
    "numeric_transformer = Pipeline(steps=[\n",
    "    ('imputer', SimpleImputer(strategy='mean')),\n",
    "    ('scaler', StandardScaler())\n",
    "])\n",
    "\n",
    "categorical_transformer = Pipeline(steps=[\n",
    "    ('imputer', SimpleImputer(strategy='constant', fill_value='missing')),\n",
    "    ('onehot', OneHotEncoder(handle_unknown='ignore'))\n",
    "])\n",
    "\n",
    "preprocessor = ColumnTransformer(transformers=[\n",
    "    ('num', numeric_transformer, numeric_features),\n",
    "    ('cat', categorical_transformer, categorical_features)\n",
    "])\n",
    "\n",
    "# different models \n",
    "linear_model = LinearRegression()\n",
    "elastic_model = ElasticNet(alpha=0.1, l1_ratio=0.5, random_state=1)\n",
    "mlp_model = MLPRegressor(max_iter=400, random_state=1)\n",
    "xgb_model = XGBRegressor(\n",
    "    n_estimators=80,\n",
    "    learning_rate=0.05,\n",
    "    max_depth=25,\n",
    "    random_state=1\n",
    ")\n",
    "voting_model = VotingRegressor(estimators=[\n",
    "    ('Elastic', elastic_model),\n",
    "    ('XGB', xgb_model),\n",
    "    ('MLP', mlp_model),\n",
    "    ('Linear', linear_model)\n",
    "])\n",
    "\n",
    "# pipeline\n",
    "model_pipeline = Pipeline(steps=[\n",
    "    ('preprocessor', preprocessor),\n",
    "    ('model', voting_model)\n",
    "])\n"
   ]
  },
  {
   "cell_type": "code",
   "execution_count": 4,
   "id": "88a77042",
   "metadata": {
    "execution": {
     "iopub.execute_input": "2024-12-11T15:58:19.312517Z",
     "iopub.status.busy": "2024-12-11T15:58:19.311633Z",
     "iopub.status.idle": "2024-12-11T17:42:41.272455Z",
     "shell.execute_reply": "2024-12-11T17:42:41.269515Z"
    },
    "papermill": {
     "duration": 6261.993497,
     "end_time": "2024-12-11T17:42:41.301839",
     "exception": false,
     "start_time": "2024-12-11T15:58:19.308342",
     "status": "completed"
    },
    "tags": []
   },
   "outputs": [
    {
     "name": "stdout",
     "output_type": "stream",
     "text": [
      "Fold 1\n",
      "MSE for Fold 1: 1.1444108965012014\n",
      "Fold 2\n",
      "MSE for Fold 2: 1.137011537004621\n",
      "Fold 3\n",
      "MSE for Fold 3: 1.147174286067877\n",
      "Fold 4\n",
      "MSE for Fold 4: 1.1374659731648287\n",
      "Fold 5\n",
      "MSE for Fold 5: 1.1411166873863863\n",
      "Average MSE: 1.141435876024983\n",
      "Test MSE: 1.147723581246434\n"
     ]
    }
   ],
   "source": [
    "x = train_df.drop(columns=[target])\n",
    "y = np.log1p(train_df[target])\n",
    "x_train_full, x_test_final, y_train_full, y_test_final = train_test_split(\n",
    "    x, y, test_size=0.2, random_state=3\n",
    ")\n",
    "\n",
    "# K-Fold Cross-Validation\n",
    "kf = KFold(n_splits=5, shuffle=True, random_state=1)\n",
    "fold = 1\n",
    "mse_scores = []\n",
    "\n",
    "for i_train, i_val in kf.split(x_train_full):\n",
    "    print(f\"Fold {fold}\")\n",
    "    x_train, x_val = x_train_full.iloc[i_train], x_train_full.iloc[i_val]\n",
    "    y_train, y_val = y_train_full.iloc[i_train], y_train_full.iloc[i_val]\n",
    "    \n",
    "    # train\n",
    "    model_pipeline.fit(x_train, y_train)\n",
    "    # predict\n",
    "    y_val_pred = model_pipeline.predict(x_val)\n",
    "    \n",
    "    mse = mean_squared_error(y_val, y_val_pred)\n",
    "    mse_scores.append(mse)\n",
    "    print(f\"MSE for Fold {fold}: {mse}\")\n",
    "    fold += 1\n",
    "# avg mse calculation\n",
    "avg_mse = np.mean(mse_scores)\n",
    "print(f\"Average MSE: {avg_mse}\")\n",
    "\n",
    "model_pipeline.fit(x_train_full, y_train_full)\n",
    "y_test_pred = model_pipeline.predict(x_test_final)\n",
    "test_mse = mean_squared_error(y_test_final, y_test_pred)\n",
    "print(f\"Test MSE: {test_mse}\")\n",
    "\n",
    "\n",
    "results_df = pd.DataFrame({\n",
    "    \"Actual\": y_test_final.values,\n",
    "    \"Predicted\": y_test_pred\n",
    "})"
   ]
  },
  {
   "cell_type": "code",
   "execution_count": 5,
   "id": "d21ed363",
   "metadata": {
    "execution": {
     "iopub.execute_input": "2024-12-11T17:42:41.324385Z",
     "iopub.status.busy": "2024-12-11T17:42:41.322670Z",
     "iopub.status.idle": "2024-12-11T17:43:18.362632Z",
     "shell.execute_reply": "2024-12-11T17:43:18.361404Z"
    },
    "papermill": {
     "duration": 37.057725,
     "end_time": "2024-12-11T17:43:18.367242",
     "exception": false,
     "start_time": "2024-12-11T17:42:41.309517",
     "status": "completed"
    },
    "tags": []
   },
   "outputs": [
    {
     "name": "stdout",
     "output_type": "stream",
     "text": [
      "submission file saved successfully\n"
     ]
    }
   ],
   "source": [
    "# Test prediction\n",
    "y_pred_test = model_pipeline.predict(test_df)\n",
    "y_pred_test = np.expm1(y_pred_test)\n",
    "\n",
    "output_file = pd.read_csv(\"/kaggle/input/playground-series-s4e12/sample_submission.csv\")\n",
    "output_file[target] = y_pred_test\n",
    "output_file.to_csv(\"submission_k_fold_voting.csv\", index=False)\n",
    "print(\"submission file saved successfully\")"
   ]
  },
  {
   "cell_type": "code",
   "execution_count": 6,
   "id": "53e41dd2",
   "metadata": {
    "execution": {
     "iopub.execute_input": "2024-12-11T17:43:18.374919Z",
     "iopub.status.busy": "2024-12-11T17:43:18.374489Z",
     "iopub.status.idle": "2024-12-11T17:43:19.232352Z",
     "shell.execute_reply": "2024-12-11T17:43:19.231251Z"
    },
    "papermill": {
     "duration": 0.865052,
     "end_time": "2024-12-11T17:43:19.235138",
     "exception": false,
     "start_time": "2024-12-11T17:43:18.370086",
     "status": "completed"
    },
    "tags": []
   },
   "outputs": [
    {
     "data": {
      "image/png": "[encoded data removed]",
      "text/plain": [
       "<Figure size 640x480 with 1 Axes>"
      ]
     },
     "metadata": {},
     "output_type": "display_data"
    }
   ],
   "source": [
    "import matplotlib.pyplot as plt\n",
    "\n",
    "plot_y_test = np.expm1(y_test_final)\n",
    "plot_y_pred = np.expm1(y_test_pred)\n",
    "residuals = plot_y_test - plot_y_pred\n",
    "plt.scatter(y_test_final, residuals)\n",
    "plt.axhline(0, color='red', linestyle='--')\n",
    "plt.xlabel(\"Actual Values\")\n",
    "plt.ylabel(\"Residuals\")\n",
    "plt.title(\"Residual Plot\")\n",
    "plt.show()"
   ]
  }
 ],
 "metadata": {
  "kaggle": {
   "accelerator": "none",
   "dataSources": [
    {
     "databundleVersionId": 10305135,
     "sourceId": 84896,
     "sourceType": "competition"
    }
   ],
   "dockerImageVersionId": 30804,
   "isGpuEnabled": false,
   "isInternetEnabled": true,
   "language": "python",
   "sourceType": "notebook"
  },
  "kernelspec": {
   "display_name": "Python 3",
   "language": "python",
   "name": "python3"
  },
  "language_info": {
   "codemirror_mode": {
    "name": "ipython",
    "version": 3
   },
   "file_extension": ".py",
   "mimetype": "text/x-python",
   "name": "python",
   "nbconvert_exporter": "python",
   "pygments_lexer": "ipython3",
   "version": "3.10.14"
  },
  "papermill": {
   "default_parameters": {},
   "duration": 6314.224838,
   "end_time": "2024-12-11T17:43:22.649526",
   "environment_variables": {},
   "exception": null,
   "input_path": "__notebook__.ipynb",
   "output_path": "__notebook__.ipynb",
   "parameters": {},
   "start_time": "2024-12-11T15:58:08.424688",
   "version": "2.6.0"
  }
 },
 "nbformat": 4,
 "nbformat_minor": 5
}

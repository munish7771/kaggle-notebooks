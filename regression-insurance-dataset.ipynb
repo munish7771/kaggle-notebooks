{
 "cells": [
  {
   "cell_type": "code",
   "execution_count": 1,
   "id": "ec57513f",
   "metadata": {
    "execution": {
     "iopub.execute_input": "2024-12-11T22:52:48.571770Z",
     "iopub.status.busy": "2024-12-11T22:52:48.571345Z",
     "iopub.status.idle": "2024-12-11T22:52:54.173007Z",
     "shell.execute_reply": "2024-12-11T22:52:54.171951Z"
    },
    "papermill": {
     "duration": 5.608757,
     "end_time": "2024-12-11T22:52:54.175563",
     "exception": false,
     "start_time": "2024-12-11T22:52:48.566806",
     "status": "completed"
    },
    "tags": []
   },
   "outputs": [],
   "source": [
    "# /kaggle/input/playground-series-s4e12/sample_submission.csv\n",
    "# /kaggle/input/playground-series-s4e12/train.csv\n",
    "# /kaggle/input/playground-series-s4e12/test.csv\n",
    "\n",
    "import pandas as pd\n",
    "\n",
    "train_df = pd.read_csv(\"/kaggle/input/playground-series-s4e12/train.csv\", index_col = 'id', engine='pyarrow').dropna(subset=['Premium Amount'])\n",
    "test_df = pd.read_csv(\"/kaggle/input/playground-series-s4e12/test.csv\", index_col = 'id', engine='pyarrow')\n",
    "target = 'Premium Amount'"
   ]
  },
  {
   "cell_type": "code",
   "execution_count": 2,
   "id": "b9677280",
   "metadata": {
    "execution": {
     "iopub.execute_input": "2024-12-11T22:52:54.183132Z",
     "iopub.status.busy": "2024-12-11T22:52:54.182759Z",
     "iopub.status.idle": "2024-12-11T22:56:39.954569Z",
     "shell.execute_reply": "2024-12-11T22:56:39.953415Z"
    },
    "papermill": {
     "duration": 225.780068,
     "end_time": "2024-12-11T22:56:39.959198",
     "exception": false,
     "start_time": "2024-12-11T22:52:54.179130",
     "status": "completed"
    },
    "tags": []
   },
   "outputs": [
    {
     "name": "stderr",
     "output_type": "stream",
     "text": [
      "/tmp/ipykernel_17/1037662770.py:18: FutureWarning: Downcasting behavior in `replace` is deprecated and will be removed in a future version. To retain the old behavior, explicitly call `result.infer_objects(copy=False)`. To opt-in to the future behavior, set `pd.set_option('future.no_silent_downcasting', True)`\n",
      "  df['Smoking Status'] = df['Smoking Status'].replace({'No': 1, 'Yes': 0}).fillna(0)\n",
      "/tmp/ipykernel_17/1037662770.py:18: FutureWarning: Downcasting behavior in `replace` is deprecated and will be removed in a future version. To retain the old behavior, explicitly call `result.infer_objects(copy=False)`. To opt-in to the future behavior, set `pd.set_option('future.no_silent_downcasting', True)`\n",
      "  df['Smoking Status'] = df['Smoking Status'].replace({'No': 1, 'Yes': 0}).fillna(0)\n"
     ]
    }
   ],
   "source": [
    "# from sklearn.preprocessing import LabelEncoder\n",
    "from datetime import datetime\n",
    "reference_date = datetime(2020,1,1)\n",
    "\n",
    "policy_type_mapping = {'Premium': 3, 'Comprehensive': 2, 'Basic': 1}\n",
    "customer_feedback_mapping = {'Good': 3, 'Average': 2, 'Poor': 1}\n",
    "def date_separator(x):\n",
    "    return pd.Series([x.day, x.month, x.year])\n",
    "\n",
    "def add_custom_transform(df):\n",
    "    df = df.copy()\n",
    "    df['Policy Start Date'] = pd.to_datetime(df['Policy Start Date'])\n",
    "    df['DaysSinceStart'] = (df['Policy Start Date'] - reference_date).dt.days\n",
    "    df[['day', 'month', 'year']] = df['Policy Start Date'].apply(date_separator)\n",
    "    df = df.drop(columns = ['Policy Start Date'])\n",
    "    df['Number of Dependents'].fillna(0) \n",
    "    df['Annual Income Per Dependent'] = df['Annual Income'] / df['Number of Dependents'].replace(0, 1)\n",
    "    df['Smoking Status'] = df['Smoking Status'].replace({'No': 1, 'Yes': 0}).fillna(0)\n",
    "    df['Customer Feedback'] = df['Customer Feedback'].map(customer_feedback_mapping)\n",
    "    df['Policy Type'] = df['Policy Type'].map(policy_type_mapping).fillna(40)\n",
    "    return df\n",
    "\n",
    "train_df = add_custom_transform(train_df)\n",
    "test_df = add_custom_transform(test_df)"
   ]
  },
  {
   "cell_type": "code",
   "execution_count": 3,
   "id": "21391efe",
   "metadata": {
    "execution": {
     "iopub.execute_input": "2024-12-11T22:56:39.965791Z",
     "iopub.status.busy": "2024-12-11T22:56:39.965421Z",
     "iopub.status.idle": "2024-12-11T22:56:42.519655Z",
     "shell.execute_reply": "2024-12-11T22:56:42.518486Z"
    },
    "papermill": {
     "duration": 2.560375,
     "end_time": "2024-12-11T22:56:42.522199",
     "exception": false,
     "start_time": "2024-12-11T22:56:39.961824",
     "status": "completed"
    },
    "tags": []
   },
   "outputs": [],
   "source": [
    "from sklearn.compose import ColumnTransformer\n",
    "from sklearn.pipeline import Pipeline\n",
    "from sklearn.preprocessing import StandardScaler, OneHotEncoder\n",
    "from sklearn.impute import SimpleImputer\n",
    "from sklearn.ensemble import VotingRegressor\n",
    "from sklearn.linear_model import ElasticNet, LinearRegression\n",
    "from sklearn.metrics import mean_squared_error\n",
    "from xgboost import XGBRegressor\n",
    "from sklearn.neural_network import MLPRegressor\n",
    "from sklearn.model_selection import train_test_split, KFold\n",
    "import numpy as np\n",
    "\n",
    "numeric_features = np.setdiff1d(train_df.select_dtypes(include=np.number).columns.values, ['Premium Amount'])\n",
    "categorical_features = train_df.select_dtypes(include='object').columns.values\n",
    "# train_df[numeric_features].describe().T\n",
    "# train_df[categorical_features].describe().T\n",
    "numeric_transformer = Pipeline(steps=[\n",
    "    ('imputer', SimpleImputer(strategy='mean')),\n",
    "    ('scaler', StandardScaler())\n",
    "])\n",
    "\n",
    "categorical_transformer = Pipeline(steps=[\n",
    "    ('imputer', SimpleImputer(strategy='most_frequent', fill_value='missing')),\n",
    "    ('onehot', OneHotEncoder(handle_unknown='ignore'))\n",
    "])\n",
    "\n",
    "preprocessor = ColumnTransformer(transformers=[\n",
    "    ('num', numeric_transformer, numeric_features),\n",
    "    ('cat', categorical_transformer, categorical_features)\n",
    "])\n",
    "\n",
    "# different models \n",
    "linear_model = LinearRegression()\n",
    "elastic_model = ElasticNet(alpha=0.1, l1_ratio=0.5, random_state=1)\n",
    "mlp_model = MLPRegressor(max_iter=400, random_state=1)\n",
    "xgb_model = XGBRegressor(\n",
    "    n_estimators=200,\n",
    "    learning_rate=0.05,\n",
    "    max_depth=10,\n",
    "    random_state=1\n",
    ")\n",
    "voting_model = VotingRegressor(estimators=[\n",
    "    ('Elastic', elastic_model),\n",
    "    ('XGB', xgb_model),\n",
    "    ('MLP', mlp_model),\n",
    "    ('Linear', linear_model)\n",
    "])\n",
    "\n",
    "# pipeline\n",
    "model_pipeline = Pipeline(steps=[\n",
    "    ('preprocessor', preprocessor),\n",
    "    ('model', voting_model)\n",
    "])\n"
   ]
  },
  {
   "cell_type": "code",
   "execution_count": 4,
   "id": "e686c518",
   "metadata": {
    "execution": {
     "iopub.execute_input": "2024-12-11T22:56:42.529426Z",
     "iopub.status.busy": "2024-12-11T22:56:42.528943Z",
     "iopub.status.idle": "2024-12-11T22:56:42.534624Z",
     "shell.execute_reply": "2024-12-11T22:56:42.533727Z"
    },
    "papermill": {
     "duration": 0.011615,
     "end_time": "2024-12-11T22:56:42.536661",
     "exception": false,
     "start_time": "2024-12-11T22:56:42.525046",
     "status": "completed"
    },
    "tags": []
   },
   "outputs": [],
   "source": [
    "# x = train_df.drop(columns=[target])\n",
    "# y = np.log1p(train_df[target])\n",
    "# x_train_full, x_test_final, y_train_full, y_test_final = train_test_split(\n",
    "#     x, y, test_size=0.2, random_state=3\n",
    "# )\n",
    "\n",
    "# # K-Fold Cross-Validation\n",
    "# kf = KFold(n_splits=5, shuffle=True, random_state=1)\n",
    "# fold = 1\n",
    "# mse_scores = []\n",
    "\n",
    "# for i_train, i_val in kf.split(x_train_full):\n",
    "#     print(f\"Fold {fold}\")\n",
    "#     x_train, x_val = x_train_full.iloc[i_train], x_train_full.iloc[i_val]\n",
    "#     y_train, y_val = y_train_full.iloc[i_train], y_train_full.iloc[i_val]\n",
    "    \n",
    "#     # train\n",
    "#     model_pipeline.fit(x_train, y_train)\n",
    "#     # predict\n",
    "#     y_val_pred = model_pipeline.predict(x_val)\n",
    "    \n",
    "#     mse = mean_squared_error(y_val, y_val_pred)\n",
    "#     mse_scores.append(mse)\n",
    "#     print(f\"MSE for Fold {fold}: {mse}\")\n",
    "#     fold += 1\n",
    "# # avg mse calculation\n",
    "# avg_mse = np.mean(mse_scores)\n",
    "# print(f\"Average MSE: {avg_mse}\")\n",
    "\n",
    "# model_pipeline.fit(x_train_full, y_train_full)\n",
    "# y_test_pred = model_pipeline.predict(x_test_final)\n",
    "# test_mse = mean_squared_error(y_test_final, y_test_pred)\n",
    "# print(f\"Test MSE: {test_mse}\")\n",
    "\n",
    "\n",
    "# results_df = pd.DataFrame({\n",
    "#     \"Actual\": y_test_final.values,\n",
    "#     \"Predicted\": y_test_pred\n",
    "# })"
   ]
  },
  {
   "cell_type": "code",
   "execution_count": 5,
   "id": "67dcf742",
   "metadata": {
    "execution": {
     "iopub.execute_input": "2024-12-11T22:56:42.543011Z",
     "iopub.status.busy": "2024-12-11T22:56:42.542645Z",
     "iopub.status.idle": "2024-12-11T23:15:40.389794Z",
     "shell.execute_reply": "2024-12-11T23:15:40.388434Z"
    },
    "papermill": {
     "duration": 1137.865534,
     "end_time": "2024-12-11T23:15:40.404823",
     "exception": false,
     "start_time": "2024-12-11T22:56:42.539289",
     "status": "completed"
    },
    "tags": []
   },
   "outputs": [
    {
     "data": {
      "text/html": [
       "<style>#sk-container-id-1 {color: black;background-color: white;}#sk-container-id-1 pre{padding: 0;}#sk-container-id-1 div.sk-toggleable {background-color: white;}#sk-container-id-1 label.sk-toggleable__label {cursor: pointer;display: block;width: 100%;margin-bottom: 0;padding: 0.3em;box-sizing: border-box;text-align: center;}#sk-container-id-1 label.sk-toggleable__label-arrow:before {content: \"▸\";float: left;margin-right: 0.25em;color: #696969;}#sk-container-id-1 label.sk-toggleable__label-arrow:hover:before {color: black;}#sk-container-id-1 div.sk-estimator:hover label.sk-toggleable__label-arrow:before {color: black;}#sk-container-id-1 div.sk-toggleable__content {max-height: 0;max-width: 0;overflow: hidden;text-align: left;background-color: #f0f8ff;}#sk-container-id-1 div.sk-toggleable__content pre {margin: 0.2em;color: black;border-radius: 0.25em;background-color: #f0f8ff;}#sk-container-id-1 input.sk-toggleable__control:checked~div.sk-toggleable__content {max-height: 200px;max-width: 100%;overflow: auto;}#sk-container-id-1 input.sk-toggleable__control:checked~label.sk-toggleable__label-arrow:before {content: \"▾\";}#sk-container-id-1 div.sk-estimator input.sk-toggleable__control:checked~label.sk-toggleable__label {background-color: #d4ebff;}#sk-container-id-1 div.sk-label input.sk-toggleable__control:checked~label.sk-toggleable__label {background-color: #d4ebff;}#sk-container-id-1 input.sk-hidden--visually {border: 0;clip: rect(1px 1px 1px 1px);clip: rect(1px, 1px, 1px, 1px);height: 1px;margin: -1px;overflow: hidden;padding: 0;position: absolute;width: 1px;}#sk-container-id-1 div.sk-estimator {font-family: monospace;background-color: #f0f8ff;border: 1px dotted black;border-radius: 0.25em;box-sizing: border-box;margin-bottom: 0.5em;}#sk-container-id-1 div.sk-estimator:hover {background-color: #d4ebff;}#sk-container-id-1 div.sk-parallel-item::after {content: \"\";width: 100%;border-bottom: 1px solid gray;flex-grow: 1;}#sk-container-id-1 div.sk-label:hover label.sk-toggleable__label {background-color: #d4ebff;}#sk-container-id-1 div.sk-serial::before {content: \"\";position: absolute;border-left: 1px solid gray;box-sizing: border-box;top: 0;bottom: 0;left: 50%;z-index: 0;}#sk-container-id-1 div.sk-serial {display: flex;flex-direction: column;align-items: center;background-color: white;padding-right: 0.2em;padding-left: 0.2em;position: relative;}#sk-container-id-1 div.sk-item {position: relative;z-index: 1;}#sk-container-id-1 div.sk-parallel {display: flex;align-items: stretch;justify-content: center;background-color: white;position: relative;}#sk-container-id-1 div.sk-item::before, #sk-container-id-1 div.sk-parallel-item::before {content: \"\";position: absolute;border-left: 1px solid gray;box-sizing: border-box;top: 0;bottom: 0;left: 50%;z-index: -1;}#sk-container-id-1 div.sk-parallel-item {display: flex;flex-direction: column;z-index: 1;position: relative;background-color: white;}#sk-container-id-1 div.sk-parallel-item:first-child::after {align-self: flex-end;width: 50%;}#sk-container-id-1 div.sk-parallel-item:last-child::after {align-self: flex-start;width: 50%;}#sk-container-id-1 div.sk-parallel-item:only-child::after {width: 0;}#sk-container-id-1 div.sk-dashed-wrapped {border: 1px dashed gray;margin: 0 0.4em 0.5em 0.4em;box-sizing: border-box;padding-bottom: 0.4em;background-color: white;}#sk-container-id-1 div.sk-label label {font-family: monospace;font-weight: bold;display: inline-block;line-height: 1.2em;}#sk-container-id-1 div.sk-label-container {text-align: center;}#sk-container-id-1 div.sk-container {/* jupyter's `normalize.less` sets `[hidden] { display: none; }` but bootstrap.min.css set `[hidden] { display: none !important; }` so we also need the `!important` here to be able to override the default hidden behavior on the sphinx rendered scikit-learn.org. See: https://github.com/scikit-learn/scikit-learn/issues/21755 */display: inline-block !important;position: relative;}#sk-container-id-1 div.sk-text-repr-fallback {display: none;}</style><div id=\"sk-container-id-1\" class=\"sk-top-container\"><div class=\"sk-text-repr-fallback\"><pre>Pipeline(steps=[(&#x27;preprocessor&#x27;,\n",
       "                 ColumnTransformer(transformers=[(&#x27;num&#x27;,\n",
       "                                                  Pipeline(steps=[(&#x27;imputer&#x27;,\n",
       "                                                                   SimpleImputer()),\n",
       "                                                                  (&#x27;scaler&#x27;,\n",
       "                                                                   StandardScaler())]),\n",
       "                                                  array([&#x27;Age&#x27;, &#x27;Annual Income&#x27;, &#x27;Annual Income Per Dependent&#x27;,\n",
       "       &#x27;Credit Score&#x27;, &#x27;Customer Feedback&#x27;, &#x27;DaysSinceStart&#x27;,\n",
       "       &#x27;Health Score&#x27;, &#x27;Insurance Duration&#x27;, &#x27;Number of Dependents&#x27;,\n",
       "       &#x27;Policy Type&#x27;, &#x27;Previous Claims&#x27;, &#x27;Smoking Status&#x27;...\n",
       "                                                           learning_rate=0.05,\n",
       "                                                           max_bin=None,\n",
       "                                                           max_cat_threshold=None,\n",
       "                                                           max_cat_to_onehot=None,\n",
       "                                                           max_delta_step=None,\n",
       "                                                           max_depth=10,\n",
       "                                                           max_leaves=None,\n",
       "                                                           min_child_weight=None,\n",
       "                                                           missing=nan,\n",
       "                                                           monotone_constraints=None,\n",
       "                                                           multi_strategy=None,\n",
       "                                                           n_estimators=200,\n",
       "                                                           n_jobs=None,\n",
       "                                                           num_parallel_tree=None,\n",
       "                                                           random_state=1, ...)),\n",
       "                                             (&#x27;MLP&#x27;,\n",
       "                                              MLPRegressor(max_iter=400,\n",
       "                                                           random_state=1)),\n",
       "                                             (&#x27;Linear&#x27;, LinearRegression())]))])</pre><b>In a Jupyter environment, please rerun this cell to show the HTML representation or trust the notebook. <br />On GitHub, the HTML representation is unable to render, please try loading this page with nbviewer.org.</b></div><div class=\"sk-container\" hidden><div class=\"sk-item sk-dashed-wrapped\"><div class=\"sk-label-container\"><div class=\"sk-label sk-toggleable\"><input class=\"sk-toggleable__control sk-hidden--visually\" id=\"sk-estimator-id-1\" type=\"checkbox\" ><label for=\"sk-estimator-id-1\" class=\"sk-toggleable__label sk-toggleable__label-arrow\">Pipeline</label><div class=\"sk-toggleable__content\"><pre>Pipeline(steps=[(&#x27;preprocessor&#x27;,\n",
       "                 ColumnTransformer(transformers=[(&#x27;num&#x27;,\n",
       "                                                  Pipeline(steps=[(&#x27;imputer&#x27;,\n",
       "                                                                   SimpleImputer()),\n",
       "                                                                  (&#x27;scaler&#x27;,\n",
       "                                                                   StandardScaler())]),\n",
       "                                                  array([&#x27;Age&#x27;, &#x27;Annual Income&#x27;, &#x27;Annual Income Per Dependent&#x27;,\n",
       "       &#x27;Credit Score&#x27;, &#x27;Customer Feedback&#x27;, &#x27;DaysSinceStart&#x27;,\n",
       "       &#x27;Health Score&#x27;, &#x27;Insurance Duration&#x27;, &#x27;Number of Dependents&#x27;,\n",
       "       &#x27;Policy Type&#x27;, &#x27;Previous Claims&#x27;, &#x27;Smoking Status&#x27;...\n",
       "                                                           learning_rate=0.05,\n",
       "                                                           max_bin=None,\n",
       "                                                           max_cat_threshold=None,\n",
       "                                                           max_cat_to_onehot=None,\n",
       "                                                           max_delta_step=None,\n",
       "                                                           max_depth=10,\n",
       "                                                           max_leaves=None,\n",
       "                                                           min_child_weight=None,\n",
       "                                                           missing=nan,\n",
       "                                                           monotone_constraints=None,\n",
       "                                                           multi_strategy=None,\n",
       "                                                           n_estimators=200,\n",
       "                                                           n_jobs=None,\n",
       "                                                           num_parallel_tree=None,\n",
       "                                                           random_state=1, ...)),\n",
       "                                             (&#x27;MLP&#x27;,\n",
       "                                              MLPRegressor(max_iter=400,\n",
       "                                                           random_state=1)),\n",
       "                                             (&#x27;Linear&#x27;, LinearRegression())]))])</pre></div></div></div><div class=\"sk-serial\"><div class=\"sk-item sk-dashed-wrapped\"><div class=\"sk-label-container\"><div class=\"sk-label sk-toggleable\"><input class=\"sk-toggleable__control sk-hidden--visually\" id=\"sk-estimator-id-2\" type=\"checkbox\" ><label for=\"sk-estimator-id-2\" class=\"sk-toggleable__label sk-toggleable__label-arrow\">preprocessor: ColumnTransformer</label><div class=\"sk-toggleable__content\"><pre>ColumnTransformer(transformers=[(&#x27;num&#x27;,\n",
       "                                 Pipeline(steps=[(&#x27;imputer&#x27;, SimpleImputer()),\n",
       "                                                 (&#x27;scaler&#x27;, StandardScaler())]),\n",
       "                                 array([&#x27;Age&#x27;, &#x27;Annual Income&#x27;, &#x27;Annual Income Per Dependent&#x27;,\n",
       "       &#x27;Credit Score&#x27;, &#x27;Customer Feedback&#x27;, &#x27;DaysSinceStart&#x27;,\n",
       "       &#x27;Health Score&#x27;, &#x27;Insurance Duration&#x27;, &#x27;Number of Dependents&#x27;,\n",
       "       &#x27;Policy Type&#x27;, &#x27;Previous Claims&#x27;, &#x27;Smoking Status&#x27;, &#x27;Vehicle Age&#x27;,\n",
       "       &#x27;day&#x27;, &#x27;month&#x27;, &#x27;year&#x27;], dtype=object)),\n",
       "                                (&#x27;cat&#x27;,\n",
       "                                 Pipeline(steps=[(&#x27;imputer&#x27;,\n",
       "                                                  SimpleImputer(fill_value=&#x27;missing&#x27;,\n",
       "                                                                strategy=&#x27;most_frequent&#x27;)),\n",
       "                                                 (&#x27;onehot&#x27;,\n",
       "                                                  OneHotEncoder(handle_unknown=&#x27;ignore&#x27;))]),\n",
       "                                 array([&#x27;Gender&#x27;, &#x27;Marital Status&#x27;, &#x27;Education Level&#x27;, &#x27;Occupation&#x27;,\n",
       "       &#x27;Location&#x27;, &#x27;Exercise Frequency&#x27;, &#x27;Property Type&#x27;], dtype=object))])</pre></div></div></div><div class=\"sk-parallel\"><div class=\"sk-parallel-item\"><div class=\"sk-item\"><div class=\"sk-label-container\"><div class=\"sk-label sk-toggleable\"><input class=\"sk-toggleable__control sk-hidden--visually\" id=\"sk-estimator-id-3\" type=\"checkbox\" ><label for=\"sk-estimator-id-3\" class=\"sk-toggleable__label sk-toggleable__label-arrow\">num</label><div class=\"sk-toggleable__content\"><pre>[&#x27;Age&#x27; &#x27;Annual Income&#x27; &#x27;Annual Income Per Dependent&#x27; &#x27;Credit Score&#x27;\n",
       " &#x27;Customer Feedback&#x27; &#x27;DaysSinceStart&#x27; &#x27;Health Score&#x27; &#x27;Insurance Duration&#x27;\n",
       " &#x27;Number of Dependents&#x27; &#x27;Policy Type&#x27; &#x27;Previous Claims&#x27; &#x27;Smoking Status&#x27;\n",
       " &#x27;Vehicle Age&#x27; &#x27;day&#x27; &#x27;month&#x27; &#x27;year&#x27;]</pre></div></div></div><div class=\"sk-serial\"><div class=\"sk-item\"><div class=\"sk-serial\"><div class=\"sk-item\"><div class=\"sk-estimator sk-toggleable\"><input class=\"sk-toggleable__control sk-hidden--visually\" id=\"sk-estimator-id-4\" type=\"checkbox\" ><label for=\"sk-estimator-id-4\" class=\"sk-toggleable__label sk-toggleable__label-arrow\">SimpleImputer</label><div class=\"sk-toggleable__content\"><pre>SimpleImputer()</pre></div></div></div><div class=\"sk-item\"><div class=\"sk-estimator sk-toggleable\"><input class=\"sk-toggleable__control sk-hidden--visually\" id=\"sk-estimator-id-5\" type=\"checkbox\" ><label for=\"sk-estimator-id-5\" class=\"sk-toggleable__label sk-toggleable__label-arrow\">StandardScaler</label><div class=\"sk-toggleable__content\"><pre>StandardScaler()</pre></div></div></div></div></div></div></div></div><div class=\"sk-parallel-item\"><div class=\"sk-item\"><div class=\"sk-label-container\"><div class=\"sk-label sk-toggleable\"><input class=\"sk-toggleable__control sk-hidden--visually\" id=\"sk-estimator-id-6\" type=\"checkbox\" ><label for=\"sk-estimator-id-6\" class=\"sk-toggleable__label sk-toggleable__label-arrow\">cat</label><div class=\"sk-toggleable__content\"><pre>[&#x27;Gender&#x27; &#x27;Marital Status&#x27; &#x27;Education Level&#x27; &#x27;Occupation&#x27; &#x27;Location&#x27;\n",
       " &#x27;Exercise Frequency&#x27; &#x27;Property Type&#x27;]</pre></div></div></div><div class=\"sk-serial\"><div class=\"sk-item\"><div class=\"sk-serial\"><div class=\"sk-item\"><div class=\"sk-estimator sk-toggleable\"><input class=\"sk-toggleable__control sk-hidden--visually\" id=\"sk-estimator-id-7\" type=\"checkbox\" ><label for=\"sk-estimator-id-7\" class=\"sk-toggleable__label sk-toggleable__label-arrow\">SimpleImputer</label><div class=\"sk-toggleable__content\"><pre>SimpleImputer(fill_value=&#x27;missing&#x27;, strategy=&#x27;most_frequent&#x27;)</pre></div></div></div><div class=\"sk-item\"><div class=\"sk-estimator sk-toggleable\"><input class=\"sk-toggleable__control sk-hidden--visually\" id=\"sk-estimator-id-8\" type=\"checkbox\" ><label for=\"sk-estimator-id-8\" class=\"sk-toggleable__label sk-toggleable__label-arrow\">OneHotEncoder</label><div class=\"sk-toggleable__content\"><pre>OneHotEncoder(handle_unknown=&#x27;ignore&#x27;)</pre></div></div></div></div></div></div></div></div></div></div><div class=\"sk-item sk-dashed-wrapped\"><div class=\"sk-label-container\"><div class=\"sk-label sk-toggleable\"><input class=\"sk-toggleable__control sk-hidden--visually\" id=\"sk-estimator-id-9\" type=\"checkbox\" ><label for=\"sk-estimator-id-9\" class=\"sk-toggleable__label sk-toggleable__label-arrow\">model: VotingRegressor</label><div class=\"sk-toggleable__content\"><pre>VotingRegressor(estimators=[(&#x27;Elastic&#x27;, ElasticNet(alpha=0.1, random_state=1)),\n",
       "                            (&#x27;XGB&#x27;,\n",
       "                             XGBRegressor(base_score=None, booster=None,\n",
       "                                          callbacks=None,\n",
       "                                          colsample_bylevel=None,\n",
       "                                          colsample_bynode=None,\n",
       "                                          colsample_bytree=None, device=None,\n",
       "                                          early_stopping_rounds=None,\n",
       "                                          enable_categorical=False,\n",
       "                                          eval_metric=None, feature_types=None,\n",
       "                                          gamma=None, grow_policy=None,\n",
       "                                          importance_typ...\n",
       "                                          learning_rate=0.05, max_bin=None,\n",
       "                                          max_cat_threshold=None,\n",
       "                                          max_cat_to_onehot=None,\n",
       "                                          max_delta_step=None, max_depth=10,\n",
       "                                          max_leaves=None,\n",
       "                                          min_child_weight=None, missing=nan,\n",
       "                                          monotone_constraints=None,\n",
       "                                          multi_strategy=None, n_estimators=200,\n",
       "                                          n_jobs=None, num_parallel_tree=None,\n",
       "                                          random_state=1, ...)),\n",
       "                            (&#x27;MLP&#x27;, MLPRegressor(max_iter=400, random_state=1)),\n",
       "                            (&#x27;Linear&#x27;, LinearRegression())])</pre></div></div></div><div class=\"sk-parallel\"><div class=\"sk-parallel-item\"><div class=\"sk-item\"><div class=\"sk-label-container\"><div class=\"sk-label sk-toggleable\"><label>Elastic</label></div></div><div class=\"sk-serial\"><div class=\"sk-item\"><div class=\"sk-estimator sk-toggleable\"><input class=\"sk-toggleable__control sk-hidden--visually\" id=\"sk-estimator-id-10\" type=\"checkbox\" ><label for=\"sk-estimator-id-10\" class=\"sk-toggleable__label sk-toggleable__label-arrow\">ElasticNet</label><div class=\"sk-toggleable__content\"><pre>ElasticNet(alpha=0.1, random_state=1)</pre></div></div></div></div></div></div><div class=\"sk-parallel-item\"><div class=\"sk-item\"><div class=\"sk-label-container\"><div class=\"sk-label sk-toggleable\"><label>XGB</label></div></div><div class=\"sk-serial\"><div class=\"sk-item\"><div class=\"sk-estimator sk-toggleable\"><input class=\"sk-toggleable__control sk-hidden--visually\" id=\"sk-estimator-id-11\" type=\"checkbox\" ><label for=\"sk-estimator-id-11\" class=\"sk-toggleable__label sk-toggleable__label-arrow\">XGBRegressor</label><div class=\"sk-toggleable__content\"><pre>XGBRegressor(base_score=None, booster=None, callbacks=None,\n",
       "             colsample_bylevel=None, colsample_bynode=None,\n",
       "             colsample_bytree=None, device=None, early_stopping_rounds=None,\n",
       "             enable_categorical=False, eval_metric=None, feature_types=None,\n",
       "             gamma=None, grow_policy=None, importance_type=None,\n",
       "             interaction_constraints=None, learning_rate=0.05, max_bin=None,\n",
       "             max_cat_threshold=None, max_cat_to_onehot=None,\n",
       "             max_delta_step=None, max_depth=10, max_leaves=None,\n",
       "             min_child_weight=None, missing=nan, monotone_constraints=None,\n",
       "             multi_strategy=None, n_estimators=200, n_jobs=None,\n",
       "             num_parallel_tree=None, random_state=1, ...)</pre></div></div></div></div></div></div><div class=\"sk-parallel-item\"><div class=\"sk-item\"><div class=\"sk-label-container\"><div class=\"sk-label sk-toggleable\"><label>MLP</label></div></div><div class=\"sk-serial\"><div class=\"sk-item\"><div class=\"sk-estimator sk-toggleable\"><input class=\"sk-toggleable__control sk-hidden--visually\" id=\"sk-estimator-id-12\" type=\"checkbox\" ><label for=\"sk-estimator-id-12\" class=\"sk-toggleable__label sk-toggleable__label-arrow\">MLPRegressor</label><div class=\"sk-toggleable__content\"><pre>MLPRegressor(max_iter=400, random_state=1)</pre></div></div></div></div></div></div><div class=\"sk-parallel-item\"><div class=\"sk-item\"><div class=\"sk-label-container\"><div class=\"sk-label sk-toggleable\"><label>Linear</label></div></div><div class=\"sk-serial\"><div class=\"sk-item\"><div class=\"sk-estimator sk-toggleable\"><input class=\"sk-toggleable__control sk-hidden--visually\" id=\"sk-estimator-id-13\" type=\"checkbox\" ><label for=\"sk-estimator-id-13\" class=\"sk-toggleable__label sk-toggleable__label-arrow\">LinearRegression</label><div class=\"sk-toggleable__content\"><pre>LinearRegression()</pre></div></div></div></div></div></div></div></div></div></div></div></div>"
      ],
      "text/plain": [
       "Pipeline(steps=[('preprocessor',\n",
       "                 ColumnTransformer(transformers=[('num',\n",
       "                                                  Pipeline(steps=[('imputer',\n",
       "                                                                   SimpleImputer()),\n",
       "                                                                  ('scaler',\n",
       "                                                                   StandardScaler())]),\n",
       "                                                  array(['Age', 'Annual Income', 'Annual Income Per Dependent',\n",
       "       'Credit Score', 'Customer Feedback', 'DaysSinceStart',\n",
       "       'Health Score', 'Insurance Duration', 'Number of Dependents',\n",
       "       'Policy Type', 'Previous Claims', 'Smoking Status'...\n",
       "                                                           learning_rate=0.05,\n",
       "                                                           max_bin=None,\n",
       "                                                           max_cat_threshold=None,\n",
       "                                                           max_cat_to_onehot=None,\n",
       "                                                           max_delta_step=None,\n",
       "                                                           max_depth=10,\n",
       "                                                           max_leaves=None,\n",
       "                                                           min_child_weight=None,\n",
       "                                                           missing=nan,\n",
       "                                                           monotone_constraints=None,\n",
       "                                                           multi_strategy=None,\n",
       "                                                           n_estimators=200,\n",
       "                                                           n_jobs=None,\n",
       "                                                           num_parallel_tree=None,\n",
       "                                                           random_state=1, ...)),\n",
       "                                             ('MLP',\n",
       "                                              MLPRegressor(max_iter=400,\n",
       "                                                           random_state=1)),\n",
       "                                             ('Linear', LinearRegression())]))])"
      ]
     },
     "execution_count": 5,
     "metadata": {},
     "output_type": "execute_result"
    }
   ],
   "source": [
    "x = train_df.drop(columns=[target])\n",
    "y = np.log1p(train_df[target])\n",
    "model_pipeline.fit(x,y)"
   ]
  },
  {
   "cell_type": "code",
   "execution_count": 6,
   "id": "2c732ca5",
   "metadata": {
    "execution": {
     "iopub.execute_input": "2024-12-11T23:15:40.413998Z",
     "iopub.status.busy": "2024-12-11T23:15:40.413538Z",
     "iopub.status.idle": "2024-12-11T23:15:54.143559Z",
     "shell.execute_reply": "2024-12-11T23:15:54.142516Z"
    },
    "papermill": {
     "duration": 13.737745,
     "end_time": "2024-12-11T23:15:54.146031",
     "exception": false,
     "start_time": "2024-12-11T23:15:40.408286",
     "status": "completed"
    },
    "tags": []
   },
   "outputs": [
    {
     "name": "stdout",
     "output_type": "stream",
     "text": [
      "submission file saved successfully\n"
     ]
    }
   ],
   "source": [
    "# Test prediction\n",
    "y_pred_test = model_pipeline.predict(test_df)\n",
    "y_pred_test = np.expm1(y_pred_test)\n",
    "\n",
    "output_file = pd.read_csv(\"/kaggle/input/playground-series-s4e12/sample_submission.csv\")\n",
    "output_file[target] = y_pred_test\n",
    "output_file.to_csv(\"submission_k_fold_voting.csv\", index=False)\n",
    "print(\"submission file saved successfully\")"
   ]
  },
  {
   "cell_type": "code",
   "execution_count": 7,
   "id": "2295e746",
   "metadata": {
    "execution": {
     "iopub.execute_input": "2024-12-11T23:15:54.154583Z",
     "iopub.status.busy": "2024-12-11T23:15:54.154242Z",
     "iopub.status.idle": "2024-12-11T23:15:54.159092Z",
     "shell.execute_reply": "2024-12-11T23:15:54.158141Z"
    },
    "papermill": {
     "duration": 0.011725,
     "end_time": "2024-12-11T23:15:54.161243",
     "exception": false,
     "start_time": "2024-12-11T23:15:54.149518",
     "status": "completed"
    },
    "tags": []
   },
   "outputs": [],
   "source": [
    "# import matplotlib.pyplot as plt\n",
    "\n",
    "# plot_y_test = np.expm1(y_test_final)\n",
    "# plot_y_pred = np.expm1(y_test_pred)\n",
    "# residuals = plot_y_test - plot_y_pred\n",
    "# plt.scatter(y_test_final, residuals)\n",
    "# plt.axhline(0, color='red', linestyle='--')\n",
    "# plt.xlabel(\"Actual Values\")\n",
    "# plt.ylabel(\"Residuals\")\n",
    "# plt.title(\"Residual Plot\")\n",
    "# plt.show()"
   ]
  }
 ],
 "metadata": {
  "kaggle": {
   "accelerator": "none",
   "dataSources": [
    {
     "databundleVersionId": 10305135,
     "sourceId": 84896,
     "sourceType": "competition"
    }
   ],
   "dockerImageVersionId": 30804,
   "isGpuEnabled": false,
   "isInternetEnabled": true,
   "language": "python",
   "sourceType": "notebook"
  },
  "kernelspec": {
   "display_name": "Python 3",
   "language": "python",
   "name": "python3"
  },
  "language_info": {
   "codemirror_mode": {
    "name": "ipython",
    "version": 3
   },
   "file_extension": ".py",
   "mimetype": "text/x-python",
   "name": "python",
   "nbconvert_exporter": "python",
   "pygments_lexer": "ipython3",
   "version": "3.10.14"
  },
  "papermill": {
   "default_parameters": {},
   "duration": 1389.219061,
   "end_time": "2024-12-11T23:15:55.087888",
   "environment_variables": {},
   "exception": null,
   "input_path": "__notebook__.ipynb",
   "output_path": "__notebook__.ipynb",
   "parameters": {},
   "start_time": "2024-12-11T22:52:45.868827",
   "version": "2.6.0"
  }
 },
 "nbformat": 4,
 "nbformat_minor": 5
}
